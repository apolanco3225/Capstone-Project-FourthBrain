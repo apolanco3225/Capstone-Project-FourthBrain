{
 "cells": [
  {
   "cell_type": "code",
   "execution_count": 2,
   "metadata": {},
   "outputs": [
    {
     "data": {
      "text/plain": [
       "564                                        Signs\n",
       "1042                               Scary Movie 3\n",
       "1642                                      Splice\n",
       "2981                              She's All That\n",
       "3901               Pokémon: Spell of the Unknown\n",
       "25                                       Titanic\n",
       "0                                         Avatar\n",
       "1       Pirates of the Caribbean: At World's End\n",
       "2                                        Spectre\n",
       "3                          The Dark Knight Rises\n",
       "Name: title, dtype: object"
      ]
     },
     "execution_count": 2,
     "metadata": {},
     "output_type": "execute_result"
    }
   ],
   "source": [
    "import pandas as pd\n",
    "import pickle\n",
    "from sklearn.metrics.pairwise import linear_kernel\n",
    "\n",
    "indices = pd.read_csv(\"indices.csv\", index_col=\"title\")\n",
    "indices = indices.squeeze()\n",
    "movies = pd.read_csv(\"indices.csv\", usecols=[\"title\"])\n",
    "\n",
    "with open(r\"tfidf.pickle\", \"rb\") as input_file:\n",
    "    tfidf_matrix = pickle.load(input_file)\n",
    "cos_similar = linear_kernel(tfidf_matrix , tfidf_matrix)\n",
    "\n",
    "\n",
    "def predict(title):\n",
    "    idx = indices[title]\n",
    "    similar = list(enumerate(cos_similar[idx]))\n",
    "    similar = sorted(similar, key=lambda x: x[1], reverse=True)\n",
    "    similar = similar[:11]\n",
    "    indic = []\n",
    "    for i in similar:\n",
    "        indic.append(i[0])\n",
    "    return movies[\"title\"].iloc[indic[1:]]\n",
    "predict(\"Spider-Man 3\")"
   ]
  },
  {
   "cell_type": "code",
   "execution_count": null,
   "metadata": {},
   "outputs": [],
   "source": []
  }
 ],
 "metadata": {
  "kernelspec": {
   "display_name": "Python 3",
   "language": "python",
   "name": "python3"
  },
  "language_info": {
   "codemirror_mode": {
    "name": "ipython",
    "version": 3
   },
   "file_extension": ".py",
   "mimetype": "text/x-python",
   "name": "python",
   "nbconvert_exporter": "python",
   "pygments_lexer": "ipython3",
   "version": "3.8.3"
  }
 },
 "nbformat": 4,
 "nbformat_minor": 4
}
